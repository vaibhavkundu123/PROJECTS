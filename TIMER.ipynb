{
  "nbformat": 4,
  "nbformat_minor": 0,
  "metadata": {
    "colab": {
      "provenance": [],
      "include_colab_link": true
    },
    "kernelspec": {
      "name": "python3",
      "display_name": "Python 3"
    },
    "language_info": {
      "name": "python"
    }
  },
  "cells": [
    {
      "cell_type": "markdown",
      "metadata": {
        "id": "view-in-github",
        "colab_type": "text"
      },
      "source": [
        "<a href=\"https://colab.research.google.com/github/vaibhavkundu123/PROJECTS/blob/main/TIMER.ipynb\" target=\"_parent\"><img src=\"https://colab.research.google.com/assets/colab-badge.svg\" alt=\"Open In Colab\"/></a>"
      ]
    },
    {
      "cell_type": "code",
      "source": [
        "import time\n",
        "import threading\n",
        "\n",
        "class CountdownTimer:\n",
        "    def __init__(self, duration):\n",
        "        self.duration = duration\n",
        "        self.remaining_time = duration\n",
        "        self.paused = False\n",
        "        self.start_time = None\n",
        "        self.pause_start_time = None\n",
        "        self.timer_thread = None\n",
        "        self.pauser=0\n",
        "\n",
        "    def start(self):\n",
        "        self.start_time = time.time()\n",
        "        self.timer_thread = threading.Thread(target=self._countdown)\n",
        "        self.timer_thread.start()\n",
        "\n",
        "    def _countdown(self):\n",
        "        for i in range(self.remaining_time,0,-1):\n",
        "            #print(f\"Time Remaining: {int(self.remaining_time / 60)}:{int(self.remaining_time % 60):02d}\")\n",
        "            if self.paused:\n",
        "                self.pauser=i\n",
        "                self.pause_start_time = self.pauser\n",
        "                time.sleep(0.1)\n",
        "                #return(self.remaining_time)\n",
        "                break\n",
        "            self.remaining_time = self.duration - (time.time() - self.start_time)\n",
        "            print(f\"Time Remaining: {int(self.remaining_time / 60)}:{int(self.remaining_time % 60):02d}\")\n",
        "            time.sleep(1)\n",
        "\n",
        "    def reset(self):\n",
        "        self.remaining_time = self.duration\n",
        "        self.paused = False\n",
        "        self.start_time = time.time()\n",
        "        self.pause_start_time = None\n",
        "\n",
        "    def stop(self):\n",
        "        self.remaining_time = 0\n",
        "\n",
        "    def pause(self):\n",
        "        if self.paused:\n",
        "            return\n",
        "        self.pause_start_time = self.pauser\n",
        "        self.paused = True\n",
        "\n",
        "    def resume(self):\n",
        "        if not self.paused:\n",
        "            return\n",
        "        self.paused = False\n",
        "        #self._countdown()\n",
        "        self.start_time += self.pause_start_time\n",
        "\n",
        "if __name__ == \"__main__\":\n",
        "    def fun():\n",
        "        duration = int(input(\"Enter timer duration in seconds: \"))\n",
        "        timer = CountdownTimer(duration)\n",
        "\n",
        "        while True:\n",
        "            print(\"\\nMenu Options:\")\n",
        "            print(\"start - Start the timer\")\n",
        "            print(\"pause - Pause the timer\")\n",
        "            print(\"resume - Resume the timer\")\n",
        "            print(\"reset - Reset the timer\")\n",
        "            print(\"stop - Stop the timer and exit\")\n",
        "            command = input(\"Enter command: \").strip().lower()\n",
        "            if command == \"start\":\n",
        "                timer.start()\n",
        "            elif command == \"pause\":\n",
        "                timer.pause()\n",
        "            elif command == \"resume\":\n",
        "                timer.resume()\n",
        "            elif command == \"reset\":\n",
        "                fun()\n",
        "                break\n",
        "            elif command == \"stop\":\n",
        "                timer.stop()\n",
        "                if timer.timer_thread:\n",
        "                    timer.timer_thread.join()\n",
        "                break\n",
        "            else:\n",
        "                print(\"Invalid command. Please try again.\")\n",
        "\n",
        "    fun()"
      ],
      "metadata": {
        "id": "atDp5roep5RN"
      },
      "execution_count": null,
      "outputs": []
    }
  ]
}